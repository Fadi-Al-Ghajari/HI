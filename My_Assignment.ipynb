{
 "cells": [
  {
   "cell_type": "markdown",
   "id": "81cd15cf-cbfb-4969-a9c5-297e91b9c2d1",
   "metadata": {
    "tags": []
   },
   "source": [
    "## My Jupyter Notebook on IBM Watson Studio"
   ]
  },
  {
   "cell_type": "markdown",
   "id": "2b23b9a8-e2c5-4014-9791-52cebb9d7692",
   "metadata": {
    "jp-MarkdownHeadingCollapsed": true,
    "tags": []
   },
   "source": [
    "**my name is fadi** \n"
   ]
  },
  {
   "cell_type": "markdown",
   "id": "c34b3af1-3632-40cd-a49e-fbde81651aca",
   "metadata": {},
   "source": [
    "well i like to be data science"
   ]
  },
  {
   "cell_type": "markdown",
   "id": "619b3b6c-ac63-43bb-8f5c-51bc096c7e1e",
   "metadata": {},
   "source": [
    "*I am interested in data science because i want to help people and my family*"
   ]
  },
  {
   "cell_type": "markdown",
   "id": "d68a3ed0-3c9d-4b89-9bca-9b02885e43d3",
   "metadata": {},
   "source": [
    "### i will add two numbuers"
   ]
  },
  {
   "cell_type": "code",
   "execution_count": 4,
   "id": "f67dfa80-e8da-4bb3-a869-5aea8fef5f30",
   "metadata": {},
   "outputs": [
    {
     "data": {
      "text/plain": [
       "11"
      ]
     },
     "execution_count": 4,
     "metadata": {},
     "output_type": "execute_result"
    }
   ],
   "source": [
    "5 + 6"
   ]
  },
  {
   "cell_type": "markdown",
   "id": "97156bc5-7130-42f7-81a1-eda67c879d01",
   "metadata": {},
   "source": [
    "* 1\n",
    "* 2\n",
    "* 3\n",
    "\n",
    "| | Sentence #  | Word    | POS   | Tag   |\n",
    "|---:|:-------------|:-----------|:------|:------|\n",
    "| 1 | Sentence: 1  | They       | PRP   | O     |\n",
    "| 2 | Sentence: 1  | marched    | VBD   | O     |\n",
    "\n",
    "> HI\n",
    ">\n",
    "> to you who reading my Assignment "
   ]
  },
  {
   "cell_type": "code",
   "execution_count": null,
   "id": "163d3cb4-74d4-477b-b111-b4a70e528367",
   "metadata": {},
   "outputs": [],
   "source": []
  }
 ],
 "metadata": {
  "kernelspec": {
   "display_name": "Python",
   "language": "python",
   "name": "conda-env-python-py"
  },
  "language_info": {
   "codemirror_mode": {
    "name": "ipython",
    "version": 3
   },
   "file_extension": ".py",
   "mimetype": "text/x-python",
   "name": "python",
   "nbconvert_exporter": "python",
   "pygments_lexer": "ipython3",
   "version": "3.7.12"
  }
 },
 "nbformat": 4,
 "nbformat_minor": 5
}
